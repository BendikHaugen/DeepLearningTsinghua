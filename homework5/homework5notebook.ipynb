{
 "cells": [
  {
   "cell_type": "code",
   "execution_count": 259,
   "id": "af3a3563",
   "metadata": {},
   "outputs": [
    {
     "name": "stdout",
     "output_type": "stream",
     "text": [
      "train.fields {'text': <torchtext.data.field.Field object at 0x0000026648F7D1F0>, 'label': <torchtext.data.field.Field object at 0x0000026648F7D250>}\n",
      "len(train) 8544\n",
      "vars(train[0]) {'text': ['The', 'Rock', 'is', 'destined', 'to', 'be', 'the', '21st', 'Century', \"'s\", 'new', '``', 'Conan', \"''\", 'and', 'that', 'he', \"'s\", 'going', 'to', 'make', 'a', 'splash', 'even', 'greater', 'than', 'Arnold', 'Schwarzenegger', ',', 'Jean-Claud', 'Van', 'Damme', 'or', 'Steven', 'Segal', '.'], 'label': 'positive'}\n",
      "['<unk>', '<pad>', '.', ',', 'the', 'and', 'a', 'of', 'to', \"'s\"]\n",
      "[('.', 8024), (',', 7131), ('the', 6037), ('and', 4431), ('a', 4403), ('of', 4386), ('to', 2995), (\"'s\", 2544), ('is', 2536), ('that', 1915), ('in', 1789), ('it', 1775), ('The', 1265), ('as', 1200), ('film', 1152), ('but', 1076), ('with', 1071), ('for', 963), ('movie', 959), ('its', 912)]\n",
      "len(TEXT.vocab) 18282\n",
      "TEXT.vocab.vectors.size() torch.Size([18282, 300])\n",
      "(tensor([[9666,   22,   22,  ..., 6030,  181,   14],\n",
      "        [  12,  919, 1993,  ..., 4298,    7,   78],\n",
      "        [  62,   30,  722,  ...,    3,    4,  226],\n",
      "        ...,\n",
      "        [   1,    1,    1,  ...,    1,    1,    1],\n",
      "        [   1,    1,    1,  ...,    1,    1,    1],\n",
      "        [   1,    1,    1,  ...,    1,    1,    1]]), tensor([20, 12, 18, 20,  9,  6, 17, 17,  4, 24, 27, 10, 25, 21,  6,  5, 18, 15,\n",
      "        15, 12, 37, 18, 29, 33, 12,  8, 14,  6, 28, 15, 12, 43, 24, 17, 20,  5,\n",
      "        25, 31, 24, 20, 17, 23, 12, 35, 20,  2, 29, 27, 28, 27, 16, 23, 12, 19,\n",
      "        35, 14, 23, 27, 16, 14, 27, 30, 33, 15]))\n",
      "tensor([5, 1, 3, 1, 2, 1, 4, 1, 4, 3, 4, 1, 2, 1, 1, 3, 2, 1, 3, 3, 1, 4, 5, 2,\n",
      "        5, 3, 3, 5, 1, 5, 3, 4, 1, 2, 2, 4, 4, 3, 4, 5, 4, 2, 2, 2, 2, 2, 5, 4,\n",
      "        2, 1, 3, 2, 1, 1, 1, 5, 4, 4, 1, 3, 2, 4, 4, 2])\n"
     ]
    },
    {
     "data": {
      "text/plain": [
       "'\\ntensor([4, 2, 1, 2, 1, 4, 2, 5, 3, 2, 3, 2, 3, 1, 4, 1, 3, 1, 4, 1, 3, 2, 1, 2,\\n        2, 3, 5, 4, 3, 3, 3, 5, 2, 1, 2, 2, 3, 2, 4, 4, 3, 4, 5, 2, 4, 1, 5, 4,\\n        1, 1, 1, 2, 5, 2, 5, 3, 2, 2, 1, 5, 1, 4, 1, 2])\\n'"
      ]
     },
     "execution_count": 259,
     "metadata": {},
     "output_type": "execute_result"
    }
   ],
   "source": [
    "from torchtext import data\n",
    "from torchtext import datasets\n",
    "from torchtext.vocab import Vectors, GloVe, CharNGram, FastText\n",
    "import torch\n",
    "import warnings\n",
    "import torch.optim as optim\n",
    "\n",
    "warnings.filterwarnings(\"ignore\")\n",
    "################################\n",
    "# DataLoader\n",
    "################################\n",
    "\n",
    "# set up fields\n",
    "TEXT = data.Field(include_lengths=True)\n",
    "LABELS = data.Field(sequential=False,dtype=torch.long)\n",
    "\n",
    "# make splits for data\n",
    "# DO NOT MODIFY: fine_grained=True, train_subtrees=False\n",
    "train, val, test = datasets.SST.splits(\n",
    "    TEXT, LABELS, fine_grained=True, train_subtrees=False)\n",
    "\n",
    "# print information about the data\n",
    "print('train.fields', train.fields) #{'text': <torchtext.data.field.Field object at 0x0000024518BC8940>, 'label': <torchtext.data.field.Field object at 0x0000024518BC8400>}\n",
    "print('len(train)', len(train)) # len(train) 8544\n",
    "print('vars(train[0])', vars(train[0])) # vars(train[0]) {'text': ['The', 'Rock', 'is', 'destined', 'to', 'be', 'the', '21st', 'Century', \"'s\", 'new', '``', 'Conan', \"''\", 'and', 'that', 'he', \"'s\", 'going', 'to', 'make', 'a', 'splash', 'even', 'greater', 'than', 'Arnold', 'Schwarzenegger', ',', 'Jean-Claud', 'Van', 'Damme', 'or', 'Steven', 'Segal', '.'], 'label': 'positive'}\n",
    "\n",
    "# build the vocabulary\n",
    "# you can use other pretrained vectors, refer to https://github.com/pytorch/text/blob/master/torchtext/vocab.py\n",
    "TEXT.build_vocab(train, vectors=Vectors(name='vector.txt', cache='./data'))\n",
    "LABELS.build_vocab(train)\n",
    "# We can also see the vocabulary directly using either the stoi (string to int) or itos (int to string) method.\n",
    "print(TEXT.vocab.itos[:10]) # ['<unk>', '<pad>', '.', ',', 'the', 'and', 'a', 'of', 'to', \"'s\"]\n",
    "print(TEXT.vocab.freqs.most_common(20)) \n",
    "# defaultdict(<bound method Vocab._default_unk_index of <torchtext.vocab.Vocab object at 0x0000024563DB6670>>,\n",
    "#  {'<unk>': 0, 'positive': 1, 'negative': 2, 'neutral': 3, 'very positive': 4, 'very negative': 5})\n",
    "\n",
    "# print vocab information\n",
    "print('len(TEXT.vocab)', len(TEXT.vocab))\n",
    "# len(TEXT.vocab) 18282\n",
    "# look into reducing\n",
    "print('TEXT.vocab.vectors.size()', TEXT.vocab.vectors.size())\n",
    "'''\n",
    "TEXT.vocab.vectors.size() torch.Size([18282, 300])\n",
    "'''\n",
    "batch_size = 64\n",
    "# make iterator for splits\n",
    "train_iter, val_iter, test_iter = data.BucketIterator.splits(\n",
    "    (train, val, test), batch_size=batch_size)\n",
    "\n",
    "# print batch information\n",
    "batch = next(iter(train_iter)) # for batch in train_iter\n",
    "print(batch.text) # input sequence\n",
    "'''\n",
    "tensor([[ 233,   66,  133,  ...,   22,  367, 1910],\n",
    "        [1325,   10, 1107,  ..., 4204,   23,    9],\n",
    "        [ 501,    6,   56,  ...,   19, 1352, 3175],\n",
    "        ...,\n",
    "        [   1,    1,    1,  ...,    1,    1,    1],\n",
    "        [   1,    1,    1,  ...,    1,    1,    1],\n",
    "        [   1,    1,    1,  ...,    1,    1,    1]])\n",
    "'''\n",
    "print(batch.label) # groud truth\n",
    "'''\n",
    "tensor([4, 2, 1, 2, 1, 4, 2, 5, 3, 2, 3, 2, 3, 1, 4, 1, 3, 1, 4, 1, 3, 2, 1, 2,\n",
    "        2, 3, 5, 4, 3, 3, 3, 5, 2, 1, 2, 2, 3, 2, 4, 4, 3, 4, 5, 2, 4, 1, 5, 4,\n",
    "        1, 1, 1, 2, 5, 2, 5, 3, 2, 2, 1, 5, 1, 4, 1, 2])\n",
    "'''\n",
    "\n",
    "# Attention: batch.label in the range [1,5] not [0,4] !!!\n"
   ]
  },
  {
   "cell_type": "code",
   "execution_count": 260,
   "id": "4e9c6eef",
   "metadata": {},
   "outputs": [
    {
     "name": "stdout",
     "output_type": "stream",
     "text": [
      "Most common: \n",
      " [('.', 8024), (',', 7131), ('the', 6037), ('and', 4431), ('a', 4403), ('of', 4386), ('to', 2995), (\"'s\", 2544), ('is', 2536), ('that', 1915), ('in', 1789), ('it', 1775), ('The', 1265), ('as', 1200), ('film', 1152), ('but', 1076), ('with', 1071), ('for', 963), ('movie', 959), ('its', 912)]\n",
      "String to int: \n",
      " ['<unk>', '<pad>', '.', ',', 'the', 'and', 'a', 'of', 'to', \"'s\"]\n",
      "Labels: \n",
      " defaultdict(<bound method Vocab._default_unk_index of <torchtext.vocab.Vocab object at 0x00000266325867F0>>, {'<unk>': 0, 'positive': 1, 'negative': 2, 'neutral': 3, 'very positive': 4, 'very negative': 5})\n"
     ]
    }
   ],
   "source": [
    "print(f'Most common: \\n {TEXT.vocab.freqs.most_common(20)}')\n",
    "print(f'String to int: \\n {TEXT.vocab.itos[:10]}')\n",
    "print(f'Labels: \\n {LABELS.vocab.stoi}') #Rompove <unk>: 0"
   ]
  },
  {
   "cell_type": "code",
   "execution_count": 261,
   "id": "607a185c",
   "metadata": {},
   "outputs": [],
   "source": [
    "#Create iterators\n",
    "train_iterator, valid_iterator, test_iterator = data.BucketIterator.splits(\n",
    "    (train, val, test),\n",
    "    sort_within_batch = True,\n",
    "    batch_size = batch_size)"
   ]
  },
  {
   "cell_type": "code",
   "execution_count": 276,
   "id": "ca171abd",
   "metadata": {},
   "outputs": [],
   "source": [
    "##CREATE MODEL\n",
    "import torch.nn as nn\n",
    "class RNN(nn.Module):\n",
    "    def __init__(self, \n",
    "                 vocab_size, \n",
    "                 embed, \n",
    "                 hidden_dimention, \n",
    "                 output_dimention, \n",
    "                 layers, \n",
    "                 dropout_rate, \n",
    "                 pad_index):\n",
    "        \n",
    "        super().__init__()\n",
    "        self.embedding = nn.Embedding(vocab_size, \n",
    "                                      embed,\n",
    "                                      padding_idx=pad_index)\n",
    "        \n",
    "        self.rnn = nn.LSTM(embed, \n",
    "                           hidden_dimention, \n",
    "                           num_layers=layers, \n",
    "                           bidirectional=True, \n",
    "                           dropout=dropout_rate)\n",
    "        \n",
    "        nodes = hidden_dimention * 2\n",
    "        \n",
    "        self.fc = nn.Linear(nodes, \n",
    "                            output_dimention)\n",
    "        \n",
    "        self.fc1 = nn.ReLU(self.fc)\n",
    "        self.dropout=nn.Dropout(dropout_rate)\n",
    "    \n",
    "    def forward(self, text, text_lengths):\n",
    "                \n",
    "        embedded = self.dropout(self.embedding(text))\n",
    "        packed_embedded = nn.utils.rnn.pack_padded_sequence(embedded, text_lengths)\n",
    "        packed_output, (hidden, cell) = self.rnn(packed_embedded)\n",
    "        output, output_lengths = nn.utils.rnn.pad_packed_sequence(packed_output)\n",
    "        hidden = self.dropout(torch.cat((hidden[-2,:,:], hidden[-1,:,:]), dim = 1))\n",
    "        \n",
    "        return self.fc(hidden)"
   ]
  },
  {
   "cell_type": "code",
   "execution_count": 277,
   "id": "ca5218c0",
   "metadata": {},
   "outputs": [],
   "source": [
    "###DEFINE VARIABLES HERE\n",
    "input_dimention = len(TEXT.vocab)\n",
    "embedding_dimention = 300\n",
    "hidden_dimention = 64\n",
    "output_dimention = len(LABELS.vocab)\n",
    "layers = 2\n",
    "dropout_rate = 0.5\n",
    "PAD_IDX = TEXT.vocab.stoi[TEXT.pad_token]\n",
    "\n"
   ]
  },
  {
   "cell_type": "code",
   "execution_count": 278,
   "id": "571136c2",
   "metadata": {},
   "outputs": [],
   "source": [
    "##Instanciate model\n",
    "model = RNN(input_dimention, \n",
    "            embedding_dimention, \n",
    "            hidden_dimention, \n",
    "            output_dimention, \n",
    "            layers, \n",
    "            dropout_rate, \n",
    "            PAD_IDX)"
   ]
  },
  {
   "cell_type": "code",
   "execution_count": 280,
   "id": "074a3ad7",
   "metadata": {},
   "outputs": [
    {
     "name": "stdout",
     "output_type": "stream",
     "text": [
      "torch.Size([18282, 300])\n"
     ]
    },
    {
     "data": {
      "text/plain": [
       "tensor([[ 0.0000,  0.0000,  0.0000,  ...,  0.0000,  0.0000,  0.0000],\n",
       "        [ 0.0000,  0.0000,  0.0000,  ...,  0.0000,  0.0000,  0.0000],\n",
       "        [ 0.0120,  0.2075, -0.1258,  ...,  0.1387, -0.3605, -0.0350],\n",
       "        ...,\n",
       "        [ 0.0495, -0.2737, -0.2819,  ..., -0.2686,  0.5445,  0.1999],\n",
       "        [ 0.8430, -0.0559, -0.0837,  ...,  0.9208, -0.2708, -0.4322],\n",
       "        [ 0.0000,  0.0000,  0.0000,  ...,  0.0000,  0.0000,  0.0000]])"
      ]
     },
     "execution_count": 280,
     "metadata": {},
     "output_type": "execute_result"
    }
   ],
   "source": [
    "# Copy the pre-trained word embeddings we loaded earlier into the embedding layer of our model.\n",
    "pretrained_embeddings = TEXT.vocab.vectors\n",
    "print(pretrained_embeddings.shape)\n",
    "# you should maintain a nn.embedding layer in your network\n",
    "model.embedding.weight.data.copy_(pretrained_embeddings)"
   ]
  },
  {
   "cell_type": "code",
   "execution_count": 281,
   "id": "aaac4afb",
   "metadata": {},
   "outputs": [],
   "source": [
    "#We want the Pad and unk weigthts to be zero:\n",
    "UNK_IDX = TEXT.vocab.stoi[TEXT.unk_token]\n",
    "model.embedding.weight.data[UNK_IDX] = torch.zeros(EMBEDDING_DIM)\n",
    "model.embedding.weight.data[PAD_IDX] = torch.zeros(EMBEDDING_DIM)"
   ]
  },
  {
   "cell_type": "code",
   "execution_count": 289,
   "id": "0358fa7f",
   "metadata": {},
   "outputs": [],
   "source": [
    "#Get optimizer and loss func\n",
    "optimizer = optim.Adam(model.parameters())\n",
    "criterion = nn.CrossEntropyLoss()\n",
    "\n"
   ]
  },
  {
   "cell_type": "code",
   "execution_count": 288,
   "id": "d60a90db",
   "metadata": {},
   "outputs": [],
   "source": [
    "def categorical_accuracy(preds, y):\n",
    "    top_pred = preds.argmax(1, keepdim = True)\n",
    "    correct = top_pred.eq(y.view_as(top_pred)).sum()\n",
    "    res = correct.float() / y.shape[0]\n",
    "    return res"
   ]
  },
  {
   "cell_type": "code",
   "execution_count": 287,
   "id": "d9402aca",
   "metadata": {},
   "outputs": [],
   "source": [
    "def train(model, iterator, optimizer, criterion):\n",
    "    \n",
    "    epoch_loss, epoch_acc = 0, 0\n",
    "    \n",
    "    model.train()\n",
    "    \n",
    "    for batch in iterator:\n",
    "        \n",
    "        optimizer.zero_grad()\n",
    "        \n",
    "        text, text_lengths = batch.text\n",
    "        \n",
    "        predictions = model(text, text_lengths).squeeze(1)\n",
    "\n",
    "        loss = criterion(predictions, batch.label)\n",
    "        \n",
    "        acc = categorical_accuracy(predictions, batch.label)\n",
    "        \n",
    "        loss.backward()\n",
    "        \n",
    "        optimizer.step()\n",
    "        \n",
    "        epoch_loss += loss.item()\n",
    "        epoch_acc += acc.item()\n",
    "        \n",
    "        loss = epoch_loss / len(iterator)\n",
    "        acc = epoch_acc / len(iterator)\n",
    "    return loss, acc"
   ]
  },
  {
   "cell_type": "code",
   "execution_count": 285,
   "id": "7fd94b4e",
   "metadata": {},
   "outputs": [],
   "source": [
    "def evaluate(model, iterator, criterion):\n",
    "    epoch_loss, epoch_acc = 0, 0\n",
    "    model.eval()\n",
    "    \n",
    "    with torch.no_grad():\n",
    "        for batch in iterator:\n",
    "\n",
    "            text, text_lengths = batch.text            \n",
    "            predictions = model(text, text_lengths).squeeze(1)\n",
    "            loss = criterion(predictions, batch.label)\n",
    "            acc = categorical_accuracy(predictions, batch.label)\n",
    "            epoch_loss += loss.item()\n",
    "            epoch_acc += acc.item()\n",
    "            loss = epoch_loss / len(iterator)\n",
    "            acc = epoch_acc / len(iterator)\n",
    "            \n",
    "    return loss, acc"
   ]
  },
  {
   "cell_type": "code",
   "execution_count": 293,
   "id": "0c8f4065",
   "metadata": {},
   "outputs": [
    {
     "name": "stdout",
     "output_type": "stream",
     "text": [
      "Start training\n",
      "Epoch: 1\n",
      "\t Training loss: 0.9 and training train_acc_history: 63.13%\n",
      "\t Validation loss: 1.512 and validation accuracy: 40.859%\n",
      "Epoch: 2\n",
      "\t Training loss: 0.835 and training train_acc_history: 65.777%\n",
      "\t Validation loss: 1.603 and validation accuracy: 40.605%\n",
      "Epoch: 3\n",
      "\t Training loss: 0.757 and training train_acc_history: 69.111%\n",
      "\t Validation loss: 1.659 and validation accuracy: 41.199%\n",
      "Epoch: 4\n",
      "\t Training loss: 0.684 and training train_acc_history: 72.715%\n",
      "\t Validation loss: 1.785 and validation accuracy: 41.64%\n",
      "Epoch: 5\n",
      "\t Training loss: 0.626 and training train_acc_history: 75.058%\n",
      "\t Validation loss: 1.799 and validation accuracy: 41.887%\n",
      "Finished training after 5 epochs, resulting in an accuracy of 42.862% and a loss of 1.7 on the test set\n"
     ]
    }
   ],
   "source": [
    "epochs = 5\n",
    "\n",
    "print(\"Start training\")\n",
    "val_loss_history, train_loss_history = [],[]\n",
    "val_acc_history, train_acc_history = [],[]\n",
    "\n",
    "for epoch in range(epochs):\n",
    "    \n",
    "    train_loss, train_acc = train(model, train_iterator, optimizer, criterion)\n",
    "    valid_loss, valid_acc = evaluate(model, valid_iterator, criterion)\n",
    "    \n",
    "    ##record loss for plotting\n",
    "    val_loss_history.append(valid_loss)    \n",
    "    val_acc_history.append(valid_acc)\n",
    "    train_loss_history.append(train_loss)\n",
    "    train_acc_history.append(train_acc)\n",
    "    \n",
    "    \n",
    "    print(f'Epoch: {epoch+1}')\n",
    "    print(f'\\t Training loss: {round(train_loss, 3)} and training train_acc_history: {round(train_acc*100,3)}%')\n",
    "    print(f'\\t Validation loss: {round(valid_loss, 3)} and validation accuracy: {round(valid_acc*100,3)}%')\n",
    "    \n",
    "test_loss, test_acc = evaluate(model, test_iterator, criterion)\n",
    "    \n",
    "print(f'Finished training after {epochs} epochs, resulting in an accuracy of {round(test_acc*100,3)}% and a loss of {round(test_loss, 2)} on the test set')"
   ]
  },
  {
   "cell_type": "code",
   "execution_count": null,
   "id": "cbecff8f",
   "metadata": {},
   "outputs": [],
   "source": [
    "'''\n",
    "notes\n",
    "Result:\n",
    "first implementation: accuracy of 0.42376575640269687 and a loss of 2.553526302746364\n",
    "Changed to relu: accuracy of 0.44965861354555403 and a loss of 1.305722747530256\n",
    "10 epochs: Worse result, only overfitted\n",
    "no bidir: accuracy of 0.4533350842339652 and a loss of 1.281713604927063 - did not include\n",
    "doble layers: resulting in an accuracy of 0.4421218488897596 and a loss of 1.2749611684254238 - still improving, dobule epochs\n",
    "Less hidden layers (half): accuracy of 45.714% and a loss of 1.32 on the test set\n",
    "Less nodes in FC: \n",
    "'''"
   ]
  },
  {
   "cell_type": "code",
   "execution_count": 256,
   "id": "b06361cf",
   "metadata": {
    "scrolled": true
   },
   "outputs": [
    {
     "data": {
      "image/png": "[encoded data removed]",
      "text/plain": [
       "<Figure size 432x288 with 1 Axes>"
      ]
     },
     "metadata": {
      "needs_background": "light"
     },
     "output_type": "display_data"
    }
   ],
   "source": [
    "import matplotlib.pyplot as plt\n",
    "\n",
    "plt.plot(range(epochs), train_loss_history, 'g', label='Training loss')\n",
    "plt.plot(range(epochs), val_loss_history, 'b', label='Validation loss')\n",
    "plt.title('Training and validation loss')\n",
    "plt.xlabel('Epochs')\n",
    "plt.ylabel('Loss')\n",
    "plt.legend()\n",
    "plt.show()\n",
    "\n"
   ]
  },
  {
   "cell_type": "code",
   "execution_count": 255,
   "id": "f06a1378",
   "metadata": {},
   "outputs": [
    {
     "data": {
      "image/png": "[encoded data removed]",
      "text/plain": [
       "<Figure size 432x288 with 1 Axes>"
      ]
     },
     "metadata": {
      "needs_background": "light"
     },
     "output_type": "display_data"
    }
   ],
   "source": [
    "plt.plot(range(epochs), train_acc_history, 'b', label='Training Accuracy')\n",
    "plt.plot(range(epochs), val_acc_history, 'g', label='Validation Accuracy')\n",
    "plt.title('Training and validation accuracy')\n",
    "plt.xlabel('Epochs')\n",
    "plt.ylabel('Loss')\n",
    "plt.legend()\n",
    "plt.show()"
   ]
  },
  {
   "cell_type": "code",
   "execution_count": 292,
   "id": "3948be6e",
   "metadata": {},
   "outputs": [
    {
     "name": "stdout",
     "output_type": "stream",
     "text": [
      "The model has 5772094 trainable parameters\n"
     ]
    }
   ],
   "source": [
    "print(f'The model has {sum(elem.numel() for elem in model.parameters())} trainable parameters')"
   ]
  },
  {
   "cell_type": "code",
   "execution_count": null,
   "id": "0bcfebe0",
   "metadata": {},
   "outputs": [],
   "source": []
  }
 ],
 "metadata": {
  "kernelspec": {
   "display_name": "Python 3 (ipykernel)",
   "language": "python",
   "name": "python3"
  },
  "language_info": {
   "codemirror_mode": {
    "name": "ipython",
    "version": 3
   },
   "file_extension": ".py",
   "mimetype": "text/x-python",
   "name": "python",
   "nbconvert_exporter": "python",
   "pygments_lexer": "ipython3",
   "version": "3.8.5"
  }
 },
 "nbformat": 4,
 "nbformat_minor": 5
}
