{
 "cells": [
  {
   "cell_type": "code",
   "execution_count": 1,
   "metadata": {},
   "outputs": [],
   "source": [
    "from __future__ import absolute_import\n",
    "from __future__ import division\n",
    "from __future__ import print_function\n",
    "\n",
    "import numpy as np\n",
    "import six\n",
    "from six.moves import range"
   ]
  },
  {
   "cell_type": "code",
   "execution_count": 2,
   "metadata": {},
   "outputs": [],
   "source": [
    "from matplotlib import pyplot as plt\n",
    "%matplotlib inline"
   ]
  },
  {
   "cell_type": "code",
   "execution_count": 3,
   "metadata": {},
   "outputs": [
    {
     "data": {
      "text/plain": [
       "((150, 4), (150,), dtype('O'))"
      ]
     },
     "execution_count": 3,
     "metadata": {},
     "output_type": "execute_result"
    }
   ],
   "source": [
    "X = np.loadtxt('iris.data', dtype='object', delimiter=',')\n",
    "Y = X[:,-1]\n",
    "X = X[:, :-1].astype('f')\n",
    "X.shape, Y.shape, Y.dtype"
   ]
  },
  {
   "cell_type": "markdown",
   "metadata": {},
   "source": [
    "`X` is a `NxK` float matrix where each row (`X[i]`) corresponds to a data point."
   ]
  },
  {
   "cell_type": "code",
   "execution_count": 32,
   "metadata": {},
   "outputs": [],
   "source": [
    "rep = []\n",
    "for element in Y:\n",
    "    if element == \"Iris-setosa\": rep.append(0)\n",
    "    elif element == \"Iris-versicolor\": rep.append(1)\n",
    "    else: \n",
    "        rep.append(2)\n",
    "\n",
    "class GMM:\n",
    "    def __init__(self, k, max_iter=5):\n",
    "        self.k = k\n",
    "        self.max_iter = int(max_iter) \n",
    "        self.shape = X.shape \n",
    "        self.n, self.m = self.shape \n",
    "        self.phi = np.full(shape=self.k, fill_value=1/self.k) \n",
    "        self.weights = np.full(shape=self.shape, fill_value=1/self.k)\n",
    "        random_row = np.random.randint(low=0, high=self.n, size=self.k)\n",
    "        self.MEAN = [  X[row_index,:] for row_index in random_row ] \n",
    "        self.sigma = [ np.cov(X.T) for _ in range(self.k) ] \n",
    "        \n",
    "            \n",
    "    def fit(self, X):\n",
    "        for _ in range(self.max_iter):\n",
    "            #E-step\n",
    "            self.weights = self.probability(X)\n",
    "            self.phi = self.weights.mean(axis=0)\n",
    "            #M-step\n",
    "            for i in range(self.k):\n",
    "                class_weight = self.weights[:, [i]]\n",
    "                class_weight_sum = class_weight.sum()\n",
    "                self.MEAN[i] = (X * class_weight).sum(axis=0) / class_weight_sum\n",
    "                self.sigma[i] = np.cov(X.T, aweights=(class_weight/class_weight_sum).flatten(), bias=True)\n",
    "            #just to track progress:\n",
    "            if _ % 100 == 0: print(_)\n",
    "        temp = np.array([np.bincount(np.array(rep)[self.predict(X) == i]).argmax() for i in range(self.k)])\n",
    "        clusters = temp[self.predict(X)]\n",
    "        self.clusters = clusters\n",
    "\n",
    "    def probability(self, X):\n",
    "        likelihood = np.zeros( (self.n, self.k) ) \n",
    "        for i in range(self.k):\n",
    "            vec = []\n",
    "            for j in range(X.shape[0]):\n",
    "                var_1 = 1 / ((2*np.pi*np.linalg.det(self.sigma[i]))*(1/2))\n",
    "                var_2 = np.exp(-0.5 * (X[j]-self.MEAN[i]).T @ np.linalg.inv(self.sigma[i]) @ (X[j]-self.MEAN[i]))\n",
    "                vec.append(var_1*var_2)\n",
    "            likelihood[:,i] = np.array(vec)\n",
    "        numerator = likelihood * self.phi\n",
    "        denominator = numerator.sum(axis=1)[:, np.newaxis]\n",
    "        return numerator / denominator\n",
    "    \n",
    "    def predict(self, X):\n",
    "        weights = self.probability(X)\n",
    "        return np.argmax(weights, axis=1)\n",
    "    \n",
    "    def get_values(self):\n",
    "        return self.clusters, self.MEAN, self.sigma\n",
    "\n"
   ]
  },
  {
   "cell_type": "code",
   "execution_count": 33,
   "metadata": {
    "scrolled": false
   },
   "outputs": [
    {
     "name": "stdout",
     "output_type": "stream",
     "text": [
      "0\n",
      "100\n",
      "200\n",
      "300\n",
      "400\n",
      "500\n",
      "600\n",
      "700\n",
      "800\n",
      "900\n",
      "[0, 0, 0, 0, 0, 0, 0, 0, 0, 0, 0, 0, 0, 0, 0, 0, 0, 0, 0, 0, 0, 0, 0, 0, 0, 0, 0, 0, 0, 0, 0, 0, 0, 0, 0, 0, 0, 0, 0, 0, 0, 0, 0, 0, 0, 0, 0, 0, 0, 0, 1, 1, 1, 1, 1, 1, 1, 1, 1, 1, 1, 1, 1, 1, 1, 1, 1, 1, 1, 1, 1, 1, 1, 1, 1, 1, 1, 1, 1, 1, 1, 1, 1, 1, 1, 1, 1, 1, 1, 1, 1, 1, 1, 1, 1, 1, 1, 1, 1, 1, 2, 2, 2, 2, 2, 2, 2, 2, 2, 2, 2, 2, 2, 2, 2, 2, 2, 2, 2, 2, 2, 2, 2, 2, 2, 2, 2, 2, 2, 2, 2, 2, 2, 2, 2, 2, 2, 2, 2, 2, 2, 2, 2, 2, 2, 2, 2, 2, 2, 2]\n",
      "[0 0 0 0 0 0 0 0 0 0 0 0 0 0 0 0 0 0 0 0 0 0 0 0 0 0 0 0 0 0 0 0 0 0 0 0 0\n",
      " 0 0 0 0 1 0 0 0 0 0 0 0 0 1 1 1 1 1 1 1 1 1 1 1 1 1 1 1 1 1 1 2 1 1 1 2 1\n",
      " 1 1 1 1 1 1 1 1 1 1 1 1 1 1 1 1 1 1 1 1 1 1 1 1 1 1 2 2 2 1 2 2 2 2 2 2 2\n",
      " 2 2 2 2 2 1 2 2 2 2 2 2 2 1 2 2 1 2 2 2 2 2 1 2 2 2 1 1 2 2 2 2 2 2 2 2 2\n",
      " 2 1]\n"
     ]
    }
   ],
   "source": [
    "n_classes = 6     # You may want to tune the number of classes\n",
    "gmm = GMM(k=n_classes, max_iter=1000)\n",
    "gmm.fit(X)\n",
    "print(rep)\n",
    "class_assignments, mean, cov = gmm.get_values()\n",
    "print(class_assignments)"
   ]
  },
  {
   "cell_type": "markdown",
   "metadata": {},
   "source": [
    "## Visualization: a Cross Section"
   ]
  },
  {
   "cell_type": "code",
   "execution_count": 34,
   "metadata": {},
   "outputs": [
    {
     "data": {
      "image/png": "[encoded data removed]",
      "text/plain": [
       "<Figure size 648x288 with 2 Axes>"
      ]
     },
     "metadata": {
      "needs_background": "light"
     },
     "output_type": "display_data"
    }
   ],
   "source": [
    "plt.figure(figsize=(9,4))\n",
    "plt.subplot(121)\n",
    "for k in range(n_classes):\n",
    "    plt.scatter(X[class_assignments==k, 2], X[class_assignments==k, 1], s=2)\n",
    "plt.subplot(122)\n",
    "for k, class_name in enumerate(np.unique(Y)):\n",
    "    plt.scatter(X[Y==class_name, 2], X[Y==class_name, 1], s=2)"
   ]
  },
  {
   "cell_type": "markdown",
   "metadata": {},
   "source": [
    "## Visualization: PCA Projection"
   ]
  },
  {
   "cell_type": "code",
   "execution_count": 35,
   "metadata": {},
   "outputs": [],
   "source": [
    "evals, evecs = np.linalg.eigh(np.cov(X.T))\n",
    "to_crd = lambda x: ((x-x.mean(axis=0))@evecs)[:,-2:]\n",
    "crds = to_crd(X)"
   ]
  },
  {
   "cell_type": "code",
   "execution_count": 36,
   "metadata": {},
   "outputs": [
    {
     "data": {
      "image/png": "[encoded data removed]",
      "text/plain": [
       "<Figure size 648x288 with 2 Axes>"
      ]
     },
     "metadata": {
      "needs_background": "light"
     },
     "output_type": "display_data"
    }
   ],
   "source": [
    "mean = np.array(mean)\n",
    "plt.figure(figsize=(9,4))\n",
    "plt.subplot(121)\n",
    "for k in range(n_classes):\n",
    "    plt.scatter(crds[class_assignments==k, 0], crds[class_assignments==k, 1], s=2)\n",
    "plt.scatter(to_crd(mean)[:,0], to_crd(mean)[:,1], s=30, marker='+')\n",
    "plt.subplot(122)\n",
    "for k in np.unique(Y):\n",
    "    plt.scatter(crds[Y==k, 0], crds[Y==k, 1], s=2)"
   ]
  },
  {
   "cell_type": "code",
   "execution_count": null,
   "metadata": {},
   "outputs": [],
   "source": []
  }
 ],
 "metadata": {
  "kernelspec": {
   "display_name": "Python 3 (ipykernel)",
   "language": "python",
   "name": "python3"
  },
  "language_info": {
   "codemirror_mode": {
    "name": "ipython",
    "version": 3
   },
   "file_extension": ".py",
   "mimetype": "text/x-python",
   "name": "python",
   "nbconvert_exporter": "python",
   "pygments_lexer": "ipython3",
   "version": "3.8.5"
  }
 },
 "nbformat": 4,
 "nbformat_minor": 2
}
